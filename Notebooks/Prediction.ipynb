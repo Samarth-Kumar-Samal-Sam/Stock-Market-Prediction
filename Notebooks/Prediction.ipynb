{
 "cells": [
  {
   "cell_type": "markdown",
   "id": "e493adcf",
   "metadata": {},
   "source": [
    "#### Importing Required Python Libraries"
   ]
  },
  {
   "cell_type": "code",
   "execution_count": null,
   "id": "9e6a127b",
   "metadata": {},
   "outputs": [],
   "source": [
    "import numpy as np\n",
    "import pandas as pd\n",
    "import yfinance as yf\n",
    "from prophet import Prophet\n",
    "import matplotlib.pyplot as plt\n",
    "import seaborn as sns\n",
    "import warnings\n",
    "warnings.filterwarnings('ignore')"
   ]
  },
  {
   "cell_type": "code",
   "execution_count": null,
   "id": "9b2e824b",
   "metadata": {},
   "outputs": [],
   "source": [
    "start = '2015-01-01'\n",
    "end = '2025-01-01'\n",
    "stock = 'AAPL'"
   ]
  },
  {
   "cell_type": "code",
   "execution_count": null,
   "id": "a9e67d69",
   "metadata": {},
   "outputs": [],
   "source": [
    "data = yf.download(tickers=stock, start=start, end=end, auto_adjust=True)\n",
    "data"
   ]
  },
  {
   "cell_type": "code",
   "execution_count": null,
   "id": "2351c2ca",
   "metadata": {},
   "outputs": [],
   "source": [
    "if isinstance(data.columns,pd.MultiIndex) :\n",
    "    data.columns = data.columns.droplevel('Ticker')"
   ]
  },
  {
   "cell_type": "code",
   "execution_count": null,
   "id": "2155f1a4",
   "metadata": {},
   "outputs": [],
   "source": [
    "data.reset_index(inplace=True)"
   ]
  },
  {
   "cell_type": "code",
   "execution_count": null,
   "id": "46ad1871",
   "metadata": {},
   "outputs": [],
   "source": [
    "df = data[['Date','Close']].rename(columns={'Date':'ds','Close':'y'})\n",
    "df"
   ]
  },
  {
   "cell_type": "code",
   "execution_count": null,
   "id": "f5ad6bb0",
   "metadata": {},
   "outputs": [],
   "source": [
    "model = Prophet(daily_seasonality=True)\n",
    "model.fit(df)"
   ]
  },
  {
   "cell_type": "code",
   "execution_count": null,
   "id": "5546bc5a",
   "metadata": {},
   "outputs": [],
   "source": [
    "future = model.make_future_dataframe(periods=365,freq='D')\n",
    "future"
   ]
  },
  {
   "cell_type": "code",
   "execution_count": null,
   "id": "acd81a0f",
   "metadata": {},
   "outputs": [],
   "source": [
    "forecast = model.predict(future)\n",
    "forecast"
   ]
  },
  {
   "cell_type": "code",
   "execution_count": null,
   "id": "9ebea619",
   "metadata": {},
   "outputs": [],
   "source": [
    "import seaborn as sns\n",
    "import matplotlib.pyplot as plt\n",
    "\n",
    "fig, axs = plt.subplots(2, 1, figsize=(12, 10), sharex=True)\n",
    "\n",
    "# Trend component\n",
    "sns.lineplot(data=forecast, x='ds', y='trend', ax=axs[0], color='blue')\n",
    "axs[0].set_title('Trend')\n",
    "axs[0].set_ylabel('Value')\n",
    "\n",
    "# Yearly seasonality\n",
    "sns.lineplot(data=forecast, x='ds', y='yearly', ax=axs[1], color='orange')\n",
    "axs[1].set_title('Yearly Seasonality')\n",
    "axs[1].set_ylabel('Value')\n",
    "\n",
    "plt.xlabel('Date')\n",
    "plt.tight_layout()\n",
    "plt.show()"
   ]
  },
  {
   "cell_type": "code",
   "execution_count": null,
   "id": "25883f3c",
   "metadata": {},
   "outputs": [],
   "source": [
    "plt.figure(figsize=(12, 6))\n",
    "\n",
    "sns.lineplot(data=forecast, x='ds', y='yhat', label='Forecast', color='blue')\n",
    "\n",
    "plt.fill_between(forecast['ds'], forecast['yhat_lower'], forecast['yhat_upper'], \n",
    "                 color='lightgreen', alpha=0.4, label='Confidence Interval')\n",
    "\n",
    "sns.lineplot(data=df, x='ds', y='y', label='Actual', color='black', linewidth=1)\n",
    "\n",
    "plt.title('Apple (AAPL) Stock Price Forecast')\n",
    "plt.xlabel('Date')\n",
    "plt.ylabel('Price (USD)')\n",
    "plt.legend()\n",
    "plt.grid(True)\n",
    "plt.tight_layout()\n",
    "plt.show()"
   ]
  }
 ],
 "metadata": {
  "kernelspec": {
   "display_name": "stock",
   "language": "python",
   "name": "python3"
  },
  "language_info": {
   "codemirror_mode": {
    "name": "ipython",
    "version": 3
   },
   "file_extension": ".py",
   "mimetype": "text/x-python",
   "name": "python",
   "nbconvert_exporter": "python",
   "pygments_lexer": "ipython3",
   "version": "3.11.0"
  }
 },
 "nbformat": 4,
 "nbformat_minor": 5
}
