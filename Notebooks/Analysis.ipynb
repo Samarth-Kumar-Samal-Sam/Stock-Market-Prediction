{
 "cells": [
  {
   "cell_type": "markdown",
   "id": "b04397a4",
   "metadata": {},
   "source": [
    "#### Import Required Python Libraries"
   ]
  },
  {
   "cell_type": "code",
   "execution_count": null,
   "id": "b255804a",
   "metadata": {},
   "outputs": [],
   "source": [
    "import pandas as pd\n",
    "import matplotlib.pyplot as plt\n",
    "import yfinance as yf\n",
    "import missingno as msno\n",
    "import seaborn as sns"
   ]
  },
  {
   "cell_type": "markdown",
   "id": "1e2950fa",
   "metadata": {},
   "source": [
    "#### Defining Stock and Date Range"
   ]
  },
  {
   "cell_type": "code",
   "execution_count": null,
   "id": "5def864c",
   "metadata": {},
   "outputs": [],
   "source": [
    "start = '2015-01-01'\n",
    "end = '2025-01-01'\n",
    "stock = 'AAPL'"
   ]
  },
  {
   "cell_type": "markdown",
   "id": "45cabd95",
   "metadata": {},
   "source": [
    "#### Downloading Stock Data"
   ]
  },
  {
   "cell_type": "code",
   "execution_count": null,
   "id": "c966ca27",
   "metadata": {},
   "outputs": [],
   "source": [
    "data = yf.download(tickers=stock,start=start,end=end,auto_adjust=True)\n",
    "data"
   ]
  },
  {
   "cell_type": "markdown",
   "id": "7f9066d7",
   "metadata": {},
   "source": [
    "#### Removing Multi-Level Column Index"
   ]
  },
  {
   "cell_type": "code",
   "execution_count": null,
   "id": "c56ca54f",
   "metadata": {},
   "outputs": [],
   "source": [
    "data.columns = data.columns.droplevel('Ticker')\n",
    "data"
   ]
  },
  {
   "cell_type": "markdown",
   "id": "b175acf7",
   "metadata": {},
   "source": [
    "#### Converting Date Index to Column"
   ]
  },
  {
   "cell_type": "code",
   "execution_count": null,
   "id": "c52df508",
   "metadata": {},
   "outputs": [],
   "source": [
    "data.reset_index(inplace=True)\n",
    "data"
   ]
  },
  {
   "cell_type": "markdown",
   "id": "8a758172",
   "metadata": {},
   "source": [
    "#### Checking for Missing Values"
   ]
  },
  {
   "cell_type": "code",
   "execution_count": null,
   "id": "3ddc0ceb",
   "metadata": {},
   "outputs": [],
   "source": [
    "print(data.isnull().sum())"
   ]
  },
  {
   "cell_type": "markdown",
   "id": "88597e6a",
   "metadata": {},
   "source": [
    "#### Complete Information about the Data"
   ]
  },
  {
   "cell_type": "code",
   "execution_count": null,
   "id": "63a8ec59",
   "metadata": {},
   "outputs": [],
   "source": [
    "data.info()"
   ]
  },
  {
   "cell_type": "markdown",
   "id": "c858a379",
   "metadata": {},
   "source": [
    "#### Complete Statistical Information about the Data"
   ]
  },
  {
   "cell_type": "code",
   "execution_count": null,
   "id": "dbcdd514",
   "metadata": {},
   "outputs": [],
   "source": [
    "data.describe()"
   ]
  },
  {
   "cell_type": "markdown",
   "id": "d59b27e5",
   "metadata": {},
   "source": [
    "#### Reindexing DataFrame by Date"
   ]
  },
  {
   "cell_type": "code",
   "execution_count": null,
   "id": "1c1c59d8",
   "metadata": {},
   "outputs": [],
   "source": [
    "data.set_index('Date',inplace=True)\n",
    "data"
   ]
  },
  {
   "cell_type": "markdown",
   "id": "3904ebee",
   "metadata": {},
   "source": [
    "#### Adding Daily Range Column"
   ]
  },
  {
   "cell_type": "code",
   "execution_count": null,
   "id": "5606ec6f",
   "metadata": {},
   "outputs": [],
   "source": [
    "data['Range'] = data.High - data.Low\n",
    "data"
   ]
  },
  {
   "cell_type": "markdown",
   "id": "1ad8ee77",
   "metadata": {},
   "source": [
    "#### Missing Data Visualization"
   ]
  },
  {
   "cell_type": "code",
   "execution_count": null,
   "id": "0903323f",
   "metadata": {},
   "outputs": [],
   "source": [
    "msno.matrix(data)"
   ]
  },
  {
   "cell_type": "markdown",
   "id": "42ed8c5f",
   "metadata": {},
   "source": [
    "#### Close Price over Time Plot"
   ]
  },
  {
   "cell_type": "code",
   "execution_count": null,
   "id": "c3dfcdc1",
   "metadata": {},
   "outputs": [],
   "source": [
    "plt.figure(figsize=(14,6))\n",
    "plt.plot(data.index, data['Close'], label='Close Price',color='darkred')\n",
    "plt.title('Apple Close Price Over Time')\n",
    "plt.xlabel('Date')\n",
    "plt.ylabel('Price ($)')\n",
    "plt.legend()\n",
    "plt.show()"
   ]
  },
  {
   "cell_type": "markdown",
   "id": "17588c8f",
   "metadata": {},
   "source": [
    "#### Open Price over Time Plot"
   ]
  },
  {
   "cell_type": "code",
   "execution_count": null,
   "id": "d036b8d7",
   "metadata": {},
   "outputs": [],
   "source": [
    "plt.figure(figsize=(14,6))\n",
    "plt.plot(data.index, data['Open'], label='Open',color = 'darkblue')\n",
    "plt.title('Apple Open Prices')\n",
    "plt.xlabel('Date')\n",
    "plt.ylabel('Price ($)')\n",
    "plt.show()"
   ]
  },
  {
   "cell_type": "markdown",
   "id": "a65e40bb",
   "metadata": {},
   "source": [
    "#### High Price over Time Plot"
   ]
  },
  {
   "cell_type": "code",
   "execution_count": null,
   "id": "d98cd2d2",
   "metadata": {},
   "outputs": [],
   "source": [
    "plt.figure(figsize=(14,6))\n",
    "plt.plot(data.index, data['High'], label='High',color = 'darkgreen')\n",
    "plt.title('Apple High Prices')\n",
    "plt.xlabel('Date')\n",
    "plt.ylabel('Price ($)')\n",
    "plt.show()"
   ]
  },
  {
   "cell_type": "markdown",
   "id": "fb85c690",
   "metadata": {},
   "source": [
    "#### Low Price over Time Plot"
   ]
  },
  {
   "cell_type": "code",
   "execution_count": null,
   "id": "5fb2a1c7",
   "metadata": {},
   "outputs": [],
   "source": [
    "plt.figure(figsize=(14,6))\n",
    "plt.plot(data.index, data['Low'], label='Low',color = 'purple')\n",
    "plt.title('Apple Low Prices')\n",
    "plt.xlabel('Date')\n",
    "plt.ylabel('Price ($)')\n",
    "plt.show()"
   ]
  },
  {
   "cell_type": "markdown",
   "id": "3ac521b3",
   "metadata": {},
   "source": [
    "#### Trading Volume over Time Plot"
   ]
  },
  {
   "cell_type": "code",
   "execution_count": null,
   "id": "01f12910",
   "metadata": {},
   "outputs": [],
   "source": [
    "plt.figure(figsize=(14,4))\n",
    "plt.bar(data.index, data['Volume'], color='red')\n",
    "plt.title('Apple Trading Volume')\n",
    "plt.xlabel('Date')\n",
    "plt.ylabel('Volume')\n",
    "plt.show()"
   ]
  },
  {
   "cell_type": "markdown",
   "id": "63d3178e",
   "metadata": {},
   "source": [
    "#### Correlation Matrix Plot"
   ]
  },
  {
   "cell_type": "code",
   "execution_count": null,
   "id": "5adbbec6",
   "metadata": {},
   "outputs": [],
   "source": [
    "plt.figure(figsize=(8,6))\n",
    "sns.heatmap(data.corr(), annot=True, cmap='coolwarm', fmt='.2f')\n",
    "plt.title('Correlation Matrix')\n",
    "plt.show()"
   ]
  },
  {
   "cell_type": "markdown",
   "id": "7d0bb6e2",
   "metadata": {},
   "source": [
    "#### Calculating 100-Day and 200-Day Moving Averages"
   ]
  },
  {
   "cell_type": "code",
   "execution_count": null,
   "id": "620134b6",
   "metadata": {},
   "outputs": [],
   "source": [
    "ma_100 = data.Close.rolling(100).mean()\n",
    "ma_200 = data.Close.rolling(200).mean()"
   ]
  },
  {
   "cell_type": "markdown",
   "id": "f4c07700",
   "metadata": {},
   "source": [
    "#### Plotting Close Price with 100-Day Moving Average"
   ]
  },
  {
   "cell_type": "code",
   "execution_count": null,
   "id": "da967a29",
   "metadata": {},
   "outputs": [],
   "source": [
    "plt.figure(figsize=(12, 6))\n",
    "sns.set(style='whitegrid',context='talk')\n",
    "\n",
    "plt.plot(data['Close'], label='Apple Close', color='green')\n",
    "\n",
    "plt.plot(ma_100, label='Apple MA 100', color='blue', linestyle='--')\n",
    "\n",
    "plt.legend()\n",
    "plt.title('Close Price and 100-Day Moving Average')\n",
    "plt.xlabel('Date')\n",
    "plt.ylabel('Price')\n",
    "plt.grid(True)\n",
    "plt.show()"
   ]
  },
  {
   "cell_type": "markdown",
   "id": "d471f887",
   "metadata": {},
   "source": [
    "#### Plotting Close Price with 200-Day Moving Average"
   ]
  },
  {
   "cell_type": "code",
   "execution_count": null,
   "id": "564efe4d",
   "metadata": {},
   "outputs": [],
   "source": [
    "plt.figure(figsize=(12, 6))\n",
    "\n",
    "plt.plot(data['Close'], label='Apple Close', color='green')\n",
    "\n",
    "plt.plot(ma_200, label='Apple MA 200', color='blue', linestyle='--')\n",
    "\n",
    "# Legend and display\n",
    "plt.legend()\n",
    "plt.title('Close Price and 200-Day Moving Average')\n",
    "plt.xlabel('Date')\n",
    "plt.ylabel('Price')\n",
    "plt.grid(True)\n",
    "plt.show()"
   ]
  },
  {
   "cell_type": "markdown",
   "id": "603b27b6",
   "metadata": {},
   "source": [
    "#### Plotting Close Price with 100-Day and 200-Day Moving Averages"
   ]
  },
  {
   "cell_type": "code",
   "execution_count": null,
   "id": "ee5b61e4",
   "metadata": {},
   "outputs": [],
   "source": [
    "plt.figure(figsize=(12,6))\n",
    "\n",
    "plt.plot(data['Close'], label='Apple Close', color='green')\n",
    "plt.plot(ma_100, label='Apple MA 100', color='blue', linestyle='--')\n",
    "plt.plot(ma_200, label='Apple MA 200', color='red', linestyle=':')\n",
    "\n",
    "plt.title('Close Price with 100-Day and 200-Day Moving Averages')\n",
    "plt.xlabel('Date')\n",
    "plt.ylabel('Price')\n",
    "plt.grid(True)\n",
    "plt.legend()\n",
    "plt.tight_layout()\n",
    "plt.show()"
   ]
  }
 ],
 "metadata": {
  "kernelspec": {
   "display_name": "stock",
   "language": "python",
   "name": "python3"
  },
  "language_info": {
   "codemirror_mode": {
    "name": "ipython",
    "version": 3
   },
   "file_extension": ".py",
   "mimetype": "text/x-python",
   "name": "python",
   "nbconvert_exporter": "python",
   "pygments_lexer": "ipython3",
   "version": "3.11.0"
  }
 },
 "nbformat": 4,
 "nbformat_minor": 5
}
